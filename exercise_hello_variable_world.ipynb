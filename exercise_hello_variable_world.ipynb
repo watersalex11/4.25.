{
 "cells": [
  {
   "cell_type": "code",
   "execution_count": 17,
   "metadata": {},
   "outputs": [
    {
     "name": "stdout",
     "output_type": "stream",
     "text": [
      "Apple's original stock price was $30.35\n",
      "Apples current stock price is $37.79\n",
      "The percent increase in the stock price was: 0.25 percent.\n"
     ]
    }
   ],
   "source": [
    "# Percent Increase Bonus Activity\n",
    "\n",
    "# Formulas\n",
    "# Increase = Current Price - Original Price\n",
    "# Percent Increase = Increase / Original x 100\n",
    "\n",
    "# Create float variable for original_price\n",
    "original_price = 30.35\n",
    "\n",
    "# Create float variable for current_price\n",
    "current_price = 37.79\n",
    "\n",
    "# Calculate difference between current_price and original_price\n",
    "value = current_price - original_price\n",
    "\n",
    "# Calculate percent_increase\n",
    "increase = (current_price - original_price)/original_price\n",
    "\n",
    "# Print original_price\n",
    "print(f\"Apple's original stock price was ${original_price}\")\n",
    "\n",
    "# Print current_price\n",
    "print(f\"Apples current stock price is ${current_price}\")\n",
    "\n",
    "# Print percent_increase to 2 decimal places using string formatting\n",
    "increase = str(round(increase,2))\n",
    "print(f'The percent increase in the stock price was: {increase} percent.')"
   ]
  },
  {
   "cell_type": "code",
   "execution_count": 31,
   "metadata": {},
   "outputs": [
    {
     "name": "stdout",
     "output_type": "stream",
     "text": [
      "\n",
      "You must be 21 years old to drive a car\n",
      "Wow, I'cant believe I am 25 yrs old, now I can rent a car!\n",
      "It is hard to believe, being 21 and 25 went so fast!\n",
      "When it is sunny outside I scream 'nice day' out load.\n",
      "rainy days and monday always bring me down\n",
      "These were my variable: 21, 25, nice day, sunny, rainy, True\n",
      "a&b variables are <class 'int'>\n",
      "c,d&e variable are <class 'str'>\n",
      "f variable is  <class 'bool'>\n"
     ]
    }
   ],
   "source": [
    "#create a list of variables to use in senctence\n",
    "a = 21\n",
    "b = 25\n",
    "c = \"nice day\"\n",
    "d = \"sunny\"\n",
    "e = 'rainy'\n",
    "f = True\n",
    "message = (f'These were my variable: {a}, {b}, {c}, {d}, {e}, {f}')\n",
    "\n",
    "# create sentences for variables\n",
    "print()\n",
    "print(f'You must be {a} years old to drive a car')\n",
    "print(f\"Wow, I'cant believe I am {b} yrs old, now I can rent a car!\")\n",
    "print(f'It is hard to believe, being {a} and {b} went so fast!')\n",
    "print(f\"When it is {d} outside I scream '{c}' out load.\")\n",
    "print(f'{e} days and monday always bring me down')\n",
    "print(message)\n",
    "#types of variables\n",
    "print(\"a&b variables are\", type(a))\n",
    "print(\"c,d&e variable are\", type(c))\n",
    "print(\"f variable is \",type(f))\n"
   ]
  },
  {
   "cell_type": "code",
   "execution_count": null,
   "metadata": {},
   "outputs": [],
   "source": []
  }
 ],
 "metadata": {
  "kernelspec": {
   "display_name": "Python 3",
   "language": "python",
   "name": "python3"
  },
  "language_info": {
   "codemirror_mode": {
    "name": "ipython",
    "version": 3
   },
   "file_extension": ".py",
   "mimetype": "text/x-python",
   "name": "python",
   "nbconvert_exporter": "python",
   "pygments_lexer": "ipython3",
   "version": "3.8.2"
  }
 },
 "nbformat": 4,
 "nbformat_minor": 4
}
