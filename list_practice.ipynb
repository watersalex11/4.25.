{
 "cells": [
  {
   "cell_type": "code",
   "execution_count": 27,
   "metadata": {},
   "outputs": [
    {
     "name": "stdout",
     "output_type": "stream",
     "text": [
      "[[-1, -12], 0, 0, 5, 10]\n",
      "[5, 7, 8, 10, 11]\n",
      "[5, 7, 8, 'alex', 'test']\n",
      "\n",
      "['alex', 'test']\n",
      "this is the new appended d list ['alex', 'test', 'happy', 'days']\n"
     ]
    }
   ],
   "source": [
    "#make some lists a, b, c\n",
    "a = [2. -7, 0, 0 ,5, 10]\n",
    "b = [5, 7, 8 ,10 ,11]\n",
    "#copy list b and create list c\n",
    "c = b[:]\n",
    "#change some items to a text\n",
    "c[3] = \"alex\"\n",
    "c[4] = \"test\"\n",
    "# change an item into a list\n",
    "a[0] = [-1,-12]\n",
    "#print lsit\n",
    "print (a) \n",
    "print (b)\n",
    "print (c)\n",
    "#create new partial list from list c 3rd and 4th element only\n",
    "d = c[3:5]\n",
    "print()\n",
    "print (d) \n",
    "#append list d with 2 new elements\n",
    "d.append(\"happy\")\n",
    "d.append(\"days\")\n",
    "print(f'This is the new appended d list {d}')"
   ]
  },
  {
   "cell_type": "code",
   "execution_count": 30,
   "metadata": {},
   "outputs": [
    {
     "name": "stdout",
     "output_type": "stream",
     "text": [
      "4\n",
      "['alex', 'test', 'happy', 'days']\n",
      "1\n"
     ]
    }
   ],
   "source": [
    "#print the length of list d and index the work test\n",
    "print(len(d))\n",
    "# find \n",
    "print(d)\n",
    "print(d.index('test'))"
   ]
  },
  {
   "cell_type": "code",
   "execution_count": 33,
   "metadata": {},
   "outputs": [
    {
     "name": "stdout",
     "output_type": "stream",
     "text": [
      "(10, 11, 'test', 'days')\n"
     ]
    }
   ],
   "source": [
    "#print last item of each list\n",
    "last_item = a[-1], b[-1], c[-1], d[-1]\n",
    "print(last_item) "
   ]
  },
  {
   "cell_type": "code",
   "execution_count": 49,
   "metadata": {},
   "outputs": [
    {
     "name": "stdout",
     "output_type": "stream",
     "text": [
      "0\n",
      "1\n",
      "2\n",
      "3\n",
      "4\n",
      "5\n",
      "6\n",
      "7\n",
      "7\n",
      "\n",
      "0\n",
      "0\n",
      "1\n",
      "1\n",
      "2\n",
      "3\n",
      "3\n",
      "6\n",
      "4\n",
      "10\n",
      "5\n",
      "15\n",
      "6\n",
      "21\n",
      "7\n",
      "28\n"
     ]
    }
   ],
   "source": [
    "#ranges and for loop\n",
    "sum = 0\n",
    "for i in range(8):\n",
    "    print(i)\n",
    "sum = sum + i\n",
    "print(sum)\n",
    "print()\n",
    "# vary \n",
    "sum = 0\n",
    "for i in range(8):\n",
    "    print(i)\n",
    "    sum = sum + i\n",
    "    print(sum)"
   ]
  },
  {
   "cell_type": "code",
   "execution_count": 53,
   "metadata": {},
   "outputs": [
    {
     "name": "stdout",
     "output_type": "stream",
     "text": [
      "0\n",
      "1\n",
      "3\n",
      "6\n",
      "10\n",
      "15\n",
      "21\n",
      "28\n",
      "36\n",
      "45\n"
     ]
    }
   ],
   "source": [
    "#loop while\n",
    "sum = 0\n",
    "i =0\n",
    "while i<10:\n",
    "    sum =sum + i\n",
    "    print(sum)\n",
    "    i = i+1\n",
    "   #does the same as above \n",
    "#for i in range(10):\n",
    " #   sum = sum + i\n",
    "  #  print(sum)"
   ]
  },
  {
   "cell_type": "code",
   "execution_count": 62,
   "metadata": {},
   "outputs": [
    {
     "data": {
      "text/plain": [
       "'spidorman is a supor horo'"
      ]
     },
     "execution_count": 62,
     "metadata": {},
     "output_type": "execute_result"
    }
   ],
   "source": [
    "#strings\n",
    "a = 'spiderman is a super hero'\n",
    "b = ['picachu','chizard', 'bulbasaur', 'gyarados', 'dragonite', 'onxy']\n",
    "# split command turns string into a list\n",
    "a.split(' ')\n",
    "# replace command will replace one character with another\n",
    "a.replace('e', 'o')\n",
    "\n",
    "\n"
   ]
  },
  {
   "cell_type": "code",
   "execution_count": 67,
   "metadata": {},
   "outputs": [
    {
     "name": "stdout",
     "output_type": "stream",
     "text": [
      "['bulbasaur', 'gyarados', 'dragonite']\n",
      "\n",
      "['gyarados', 'dragonite', 'onxy']\n",
      "['picachu', 'chizard', 'bulbasaur']\n",
      "['picachu', 'chizard', 'bulbasaur', 'gyarados', 'dragonite', 'onxy', 'golden']\n"
     ]
    }
   ],
   "source": [
    "a = 'spiderman is a super hero'\n",
    "b = ['picachu','chizard', 'bulbasaur', 'gyarados', 'dragonite', 'onxy']\n",
    "#print middle element of a list\n",
    "print(b[2:5])\n",
    "print()\n",
    "#print element 4 on\n",
    "print(b[3:])\n",
    "#print up to element 2\n",
    "print(b[:3])\n",
    "#append list to add golden to the end\n",
    "b.append('golden')\n",
    "print(b)"
   ]
  },
  {
   "cell_type": "code",
   "execution_count": null,
   "metadata": {},
   "outputs": [],
   "source": []
  }
 ],
 "metadata": {
  "kernelspec": {
   "display_name": "Python 3",
   "language": "python",
   "name": "python3"
  },
  "language_info": {
   "codemirror_mode": {
    "name": "ipython",
    "version": 3
   },
   "file_extension": ".py",
   "mimetype": "text/x-python",
   "name": "python",
   "nbconvert_exporter": "python",
   "pygments_lexer": "ipython3",
   "version": "3.8.2"
  }
 },
 "nbformat": 4,
 "nbformat_minor": 4
}
