{
 "cells": [
  {
   "cell_type": "code",
   "execution_count": 47,
   "metadata": {},
   "outputs": [
    {
     "name": "stdout",
     "output_type": "stream",
     "text": [
      "['water', 'butter', 'eggs', 'apples', 'cinnamon', 'sugar', 'milk']\n"
     ]
    }
   ],
   "source": [
    "# apple pie grocery list\n",
    "grocery= [\"water\", \"butter\", \"eggs\", \"apples\", \"cinnamon\", \"sugar\", \"milk\"]\n",
    "print(grocery)"
   ]
  },
  {
   "cell_type": "code",
   "execution_count": 48,
   "metadata": {},
   "outputs": [
    {
     "name": "stdout",
     "output_type": "stream",
     "text": [
      "['water', 'butter']\n",
      "['eggs', 'apples', 'cinnamon', 'sugar']\n",
      "['water', 'eggs', 'cinnamon', 'milk']\n"
     ]
    }
   ],
   "source": [
    "#print differnt items on list\n",
    "print(grocery[0:2])\n",
    "print(grocery[2:6])\n",
    "print(grocery[::2])"
   ]
  },
  {
   "cell_type": "code",
   "execution_count": 49,
   "metadata": {},
   "outputs": [
    {
     "name": "stdout",
     "output_type": "stream",
     "text": [
      "['water', 'butter', 'eggs', 'apples', 'cinnamon', 'sugar', 'milk']\n",
      "\n",
      "['water', 'butter', 'eggs', 'apples', 'cinnamon', 'sugar', 'milk', 'flour']\n",
      "['water', 'butter', 'eggs', 'apples', 'cinnamon', 'sugar', 'soy milk', 'flour']\n",
      " this is the last item on the list: flour\n"
     ]
    }
   ],
   "source": [
    "#add an item\n",
    "print(grocery)\n",
    "print()\n",
    "grocery.append('flour')\n",
    "print(grocery)\n",
    "#change an item\n",
    "grocery[6] = 'soy milk'\n",
    "print(grocery)\n",
    "#last item\n",
    "last_item = grocery[-1]\n",
    "print(f' this is the last item on the list: {last_item}')"
   ]
  },
  {
   "cell_type": "code",
   "execution_count": 50,
   "metadata": {},
   "outputs": [
    {
     "name": "stdout",
     "output_type": "stream",
     "text": [
      "8\n"
     ]
    }
   ],
   "source": [
    "# how many items on my list\n",
    "print(len(grocery))"
   ]
  },
  {
   "cell_type": "code",
   "execution_count": 51,
   "metadata": {},
   "outputs": [
    {
     "name": "stdout",
     "output_type": "stream",
     "text": [
      "['water', 'butter', 'eggs', 'gala apples', 'cinnamon', 'sugar', 'soy milk', 'flour']\n"
     ]
    }
   ],
   "source": [
    "grocery[3] = \"gala apples\"\n",
    "print(grocery)"
   ]
  },
  {
   "cell_type": "code",
   "execution_count": 52,
   "metadata": {},
   "outputs": [
    {
     "name": "stdout",
     "output_type": "stream",
     "text": [
      "3\n"
     ]
    }
   ],
   "source": [
    "#index of gala apples\n",
    "print(grocery.index('gala apples'))"
   ]
  },
  {
   "cell_type": "code",
   "execution_count": 53,
   "metadata": {},
   "outputs": [
    {
     "name": "stdout",
     "output_type": "stream",
     "text": [
      "['water', 'butter', 'eggs', 'gala apples', 'cinnamon', 'soy milk', 'flour']\n"
     ]
    }
   ],
   "source": [
    "#remove sugar\n",
    "grocery.remove('sugar')\n",
    "print(grocery)"
   ]
  },
  {
   "cell_type": "code",
   "execution_count": 54,
   "metadata": {},
   "outputs": [
    {
     "name": "stdout",
     "output_type": "stream",
     "text": [
      "0\n",
      "['butter', 'eggs', 'gala apples', 'cinnamon', 'soy milk', 'flour']\n"
     ]
    }
   ],
   "source": [
    "remove_water = grocery.index('water')\n",
    "print(remove_water)\n",
    "grocery.pop(remove_water)\n",
    "print(grocery)"
   ]
  },
  {
   "cell_type": "code",
   "execution_count": 55,
   "metadata": {},
   "outputs": [
    {
     "name": "stdout",
     "output_type": "stream",
     "text": [
      "['butter', 'eggs', 'gala apples', 'cinnamon', 'soy milk']\n"
     ]
    }
   ],
   "source": [
    "#remove last item on list\n",
    "grocery.remove('flour')\n",
    "print(grocery)"
   ]
  },
  {
   "cell_type": "code",
   "execution_count": null,
   "metadata": {},
   "outputs": [],
   "source": []
  }
 ],
 "metadata": {
  "kernelspec": {
   "display_name": "Python 3",
   "language": "python",
   "name": "python3"
  },
  "language_info": {
   "codemirror_mode": {
    "name": "ipython",
    "version": 3
   },
   "file_extension": ".py",
   "mimetype": "text/x-python",
   "name": "python",
   "nbconvert_exporter": "python",
   "pygments_lexer": "ipython3",
   "version": "3.8.2"
  }
 },
 "nbformat": 4,
 "nbformat_minor": 4
}
