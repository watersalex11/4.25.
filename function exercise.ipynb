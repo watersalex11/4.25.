{
 "cells": [
  {
   "cell_type": "code",
   "execution_count": 50,
   "metadata": {},
   "outputs": [
    {
     "name": "stdin",
     "output_type": "stream",
     "text": [
      "enter a non negative whole number 4\n"
     ]
    },
    {
     "name": "stdout",
     "output_type": "stream",
     "text": [
      "24\n"
     ]
    }
   ],
   "source": [
    "#this is a function that performs the factorial of a integer\n",
    "def fact(x):\n",
    "    product = 1\n",
    "    for i in range(x):\n",
    "        product = product * (i+1)\n",
    "    return product\n",
    "\n",
    "number_input = input(\"enter a non negative whole number\")\n",
    "factorial_of_number = fact(int(number_input))\n",
    "print(factorial_of_number)"
   ]
  },
  {
   "cell_type": "code",
   "execution_count": 51,
   "metadata": {},
   "outputs": [
    {
     "name": "stdout",
     "output_type": "stream",
     "text": [
      "T market capitalization: 14950.0\n"
     ]
    }
   ],
   "source": [
    "#create a new function\n",
    "def main(stock_ticker):\n",
    "    print(stock_ticker + \"is booming right now!\")\n",
    "\n",
    "def calculate_market_cap(market_price, number_of_shares):\n",
    "    cap = market_price * number_of_shares\n",
    "    return cap\n",
    "#define variables\n",
    "stock_ticker = \"T\"\n",
    "market_price = 29.9\n",
    "number_of_shares = 500\n",
    "\n",
    "market_cap = calculate_market_cap(market_price, number_of_shares)\n",
    "print(f'{stock_ticker} market capitalization: {market_cap}')"
   ]
  },
  {
   "cell_type": "code",
   "execution_count": 52,
   "metadata": {},
   "outputs": [
    {
     "name": "stdout",
     "output_type": "stream",
     "text": [
      "T market capitalization: 7500\n"
     ]
    }
   ],
   "source": [
    "#use function with just numbers\n",
    "def calculate_market_cap(market_price, number_of_shares):\n",
    "    cap = market_price * number_of_shares\n",
    "    return cap\n",
    "#define variables\n",
    "stock_ticker = \"T\"\n",
    "\n",
    "\n",
    "market_cap = calculate_market_cap(30, 250)\n",
    "print(f'{stock_ticker} market capitalization: {market_cap}')"
   ]
  },
  {
   "cell_type": "code",
   "execution_count": 53,
   "metadata": {},
   "outputs": [
    {
     "name": "stdout",
     "output_type": "stream",
     "text": [
      "This is year one growth: 0.552.\n",
      "This is year two growth: 0.044.\n",
      "This is year three growth 0.041.\n",
      "Compound Annual Growth Rate for 2016: 0.552%\n",
      "Compound Annual Growth Rate for 2017: 0.044%\n",
      "Compound Annual Growth Rate for 2017: 0.041%\n"
     ]
    }
   ],
   "source": [
    "\"\"\"\n",
    "Determine the Compound Annual Growth Rate for an investment\n",
    "\"\"\"\n",
    "\n",
    "# Declare a variable beginning_balance as a float\n",
    "beginning_balance = 29000.00\n",
    "\n",
    "# Declare a variable ending_balance as float\n",
    "ending_balance = 45000.10\n",
    "\n",
    "# Declare a variable years as an float\n",
    "years = 1.0\n",
    "\n",
    "# Define a function called calculate_compound_growth_rate with three arguments: beginning_balance, ending_balance, years. Function should output growth_rate.\n",
    "def calculate_compound_growth_rate(beginning_balance, ending_balance, years):\n",
    "    growth_rate = (ending_balance/beginning_balance)**(1/years) - 1\n",
    "    return growth_rate\n",
    "\n",
    "# Call calculate_compound_growth_rate using beginning_balance, ending_balance, and years. Capture as year_one_growth.\n",
    "year_one_growth = round(calculate_compound_growth_rate(beginning_balance, ending_balance, years),3)\n",
    "print(f\"This is year one growth: {year_one_growth}.\")\n",
    "\n",
    "# Update beginning_balance and ending balance for year two, and then execute calculate_compound_growth_rate\n",
    "beginning_balance = 45000.10\n",
    "ending_balance = 47000.00\n",
    "year_two_growth = round(calculate_compound_growth_rate(beginning_balance, ending_balance, years),3)\n",
    "print(f\"This is year two growth: {year_two_growth}.\")\n",
    "\n",
    "# Update beginning_balance and ending balance for year three, and then execute calculate_compound_growth_rate\n",
    "beginning_balance = 47000.00\n",
    "ending_balance = 48930.00\n",
    "year_three_growth = round(calculate_compound_growth_rate(beginning_balance, ending_balance, years),3)\n",
    "print(f\"This is year three growth {year_three_growth}.\")\n",
    "                          \n",
    "# Use Python round() function to round year_one_growth, year_two_growth, and year_three_growth. Capture these as new variables.\n",
    "#round function was put into year growth variable\n",
    "\n",
    "# Print year_one_growth, year_two_growth, year_three_growth as percents using string formatting\n",
    "print(f'Compound Annual Growth Rate for 2016: {year_one_growth}%')\n",
    "print(f'Compound Annual Growth Rate for 2017: {year_two_growth}%')\n",
    "print(f'Compound Annual Growth Rate for 2017: {year_three_growth}%')\n",
    "\n"
   ]
  },
  {
   "cell_type": "code",
   "execution_count": 64,
   "metadata": {},
   "outputs": [
    {
     "name": "stdout",
     "output_type": "stream",
     "text": [
      "Growth rates:  [0.5517275862068964, 0.04444444444444451, 0.04106382978723411]\n"
     ]
    }
   ],
   "source": [
    "# Challenge\n",
    "\n",
    "# Create a global, empty list\n",
    "growth_rates = list()\n",
    "\n",
    "\n",
    "# Define a function called\n",
    "def calculate_compound_growth_rate(beginning_balance, ending_balance, years):\n",
    "    growth_rate = (ending_balance/beginning_balance)**(1/years) - 1\n",
    "    \n",
    "\n",
    "    # Populate growth_rates list using add() function\n",
    "    growth_rates.append(growth_rate)    \n",
    "\n",
    "\n",
    "# Call calculate_compound_growth_rate_list and populate growth_rates with 2016 values (beginning_balance and ending_balance)\n",
    "beginning_balance = 29000.00\n",
    "ending_balance = 45000.10\n",
    "calculate_compound_growth_rate(beginning_balance, ending_balance, years)\n",
    "\n",
    "# Call calculate_compound_growth_rate_list and populate growth_rates with 2017 values (beginning_balance and ending_balance)\n",
    "beginning_balance = 45000.00\n",
    "ending_balance = 47000.00\n",
    "calculate_compound_growth_rate(beginning_balance, ending_balance, years)\n",
    "\n",
    "# Call calculate_compound_growth_rate_list and populate growth_rates with 2018 values (beginning_balance and ending_balance)\n",
    "beginning_balance = 47000.00\n",
    "ending_balance = 48930.00\n",
    "calculate_compound_growth_rate(beginning_balance, ending_balance, years)\n",
    "\n",
    "# Print growth_rates list\n",
    "print(\"Growth rates: \", growth_rates)"
   ]
  },
  {
   "cell_type": "code",
   "execution_count": 56,
   "metadata": {},
   "outputs": [
    {
     "name": "stdout",
     "output_type": "stream",
     "text": [
      "Growth rates:  [0.5517275862068964, 0.04444212346194787, 0.04106382978723411]\n"
     ]
    }
   ],
   "source": []
  },
  {
   "cell_type": "code",
   "execution_count": null,
   "metadata": {},
   "outputs": [],
   "source": []
  }
 ],
 "metadata": {
  "kernelspec": {
   "display_name": "Python 3",
   "language": "python",
   "name": "python3"
  },
  "language_info": {
   "codemirror_mode": {
    "name": "ipython",
    "version": 3
   },
   "file_extension": ".py",
   "mimetype": "text/x-python",
   "name": "python",
   "nbconvert_exporter": "python",
   "pygments_lexer": "ipython3",
   "version": "3.8.2"
  }
 },
 "nbformat": 4,
 "nbformat_minor": 4
}
