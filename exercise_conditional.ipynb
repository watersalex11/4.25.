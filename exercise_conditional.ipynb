{
 "cells": [
  {
   "cell_type": "code",
   "execution_count": 29,
   "metadata": {},
   "outputs": [
    {
     "name": "stdout",
     "output_type": "stream",
     "text": [
      "I cant believe it is so early!\n"
     ]
    }
   ],
   "source": [
    "#create some variable to play with\n",
    "x = 56\n",
    "y = 79\n",
    "dinner_time = True\n",
    "lunch_time = False\n",
    "breakfast = False\n",
    "camping = \"ncie weather\"\n",
    "driving = \"windows down\"\n",
    "\n",
    "#if/else conditon\n",
    "if lunch_time is True:\n",
    "    print('I cant believe it')\n",
    "else:\n",
    "    print(\"I cant believe it is so early!\")\n",
    "    "
   ]
  },
  {
   "cell_type": "code",
   "execution_count": 16,
   "metadata": {},
   "outputs": [
    {
     "name": "stdout",
     "output_type": "stream",
     "text": [
      "They are not equal\n",
      "\n",
      "x is greater\n",
      "y is not equal to 35\n"
     ]
    }
   ],
   "source": [
    "#if/else statement, change variable for different outcomes\n",
    "x = 5\n",
    "y =3\n",
    "z = x + y\n",
    "\n",
    "if z == 5:\n",
    "    print('x = 5')\n",
    "else:\n",
    "    print('They are not equal')\n",
    "    print()\n",
    "if x > y:\n",
    "    print('x is greater')\n",
    "    \n",
    "if y != 35:\n",
    "    print('y is not equal to 35')\n"
   ]
  },
  {
   "cell_type": "code",
   "execution_count": 31,
   "metadata": {},
   "outputs": [
    {
     "name": "stdout",
     "output_type": "stream",
     "text": [
      "must be dinner\n",
      "I think it is dinner time: True\n"
     ]
    }
   ],
   "source": [
    "# if/and conditional\n",
    "if not breakfast and not lunch_time:\n",
    "    dinner_time = True\n",
    "    print('must be dinner')   \n",
    "elif breakfast and lunch_time:\n",
    "    dinner_time= False\n",
    "    print('it is still early')\n",
    "\n",
    "print(f'I think it is dinner time: {dinner_time}')\n"
   ]
  },
  {
   "cell_type": "code",
   "execution_count": 22,
   "metadata": {},
   "outputs": [
    {
     "name": "stdout",
     "output_type": "stream",
     "text": [
      "it is still early\n"
     ]
    }
   ],
   "source": [
    "#redefine variables\n",
    "breakfast = True\n",
    "lunch_time = True\n",
    "dinner_time = False\n",
    "\n",
    "if not dinner_time and lunch_time:\n",
    "    print('It is still early')"
   ]
  },
  {
   "cell_type": "code",
   "execution_count": null,
   "metadata": {},
   "outputs": [],
   "source": []
  }
 ],
 "metadata": {
  "kernelspec": {
   "display_name": "Python 3",
   "language": "python",
   "name": "python3"
  },
  "language_info": {
   "codemirror_mode": {
    "name": "ipython",
    "version": 3
   },
   "file_extension": ".py",
   "mimetype": "text/x-python",
   "name": "python",
   "nbconvert_exporter": "python",
   "pygments_lexer": "ipython3",
   "version": "3.8.2"
  }
 },
 "nbformat": 4,
 "nbformat_minor": 4
}
