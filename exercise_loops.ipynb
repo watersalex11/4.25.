{
 "cells": [
  {
   "cell_type": "code",
   "execution_count": 5,
   "metadata": {},
   "outputs": [
    {
     "name": "stdout",
     "output_type": "stream",
     "text": [
      "0\n",
      "1\n",
      "2\n",
      "3\n",
      "4\n",
      "5\n",
      "6\n",
      "7\n",
      "8\n",
      "9\n",
      "3\n",
      "4\n",
      "5\n",
      "6\n",
      "7\n"
     ]
    }
   ],
   "source": [
    "#loop thru a range of numbers\n",
    "for x in range(10):\n",
    "    print(x)\n",
    "   \n",
    "for x in range(3,8):\n",
    "    print(x)"
   ]
  },
  {
   "cell_type": "code",
   "execution_count": 8,
   "metadata": {},
   "outputs": [
    {
     "name": "stdout",
     "output_type": "stream",
     "text": [
      "*H!!!!!\n",
      "*a!!!!!\n",
      "*p!!!!!\n",
      "*p!!!!!\n",
      "*y!!!!!\n",
      "* !!!!!\n",
      "*N!!!!!\n",
      "*e!!!!!\n",
      "*w!!!!!\n",
      "* !!!!!\n",
      "*Y!!!!!\n",
      "*e!!!!!\n",
      "*a!!!!!\n",
      "*r!!!!!\n"
     ]
    }
   ],
   "source": [
    "#loop thru a word\n",
    "cheer = \"Happy New Year\"\n",
    "for x in cheer:\n",
    "    print(\"*\" + x + \"!!!!!\")\n",
    "    "
   ]
  },
  {
   "cell_type": "code",
   "execution_count": 11,
   "metadata": {},
   "outputs": [
    {
     "name": "stdout",
     "output_type": "stream",
     "text": [
      "Do you want me to run a cheer\n"
     ]
    },
    {
     "name": "stdin",
     "output_type": "stream",
     "text": [
      "y for yes and n for no y\n"
     ]
    },
    {
     "name": "stdout",
     "output_type": "stream",
     "text": [
      "H\n",
      "a\n",
      "p\n",
      "p\n",
      "y\n",
      " \n",
      "N\n",
      "e\n",
      "w\n",
      " \n",
      "Y\n",
      "e\n",
      "a\n",
      "r\n"
     ]
    }
   ],
   "source": [
    "#Loop with conditional and an input\n",
    "print('Do you want me to run a cheer')\n",
    "run = input('y for yes and n for no')\n",
    "if run==\"y\":\n",
    "    for x in cheer:\n",
    "        print(x)\n",
    "else:\n",
    "    print('your loss')"
   ]
  },
  {
   "cell_type": "code",
   "execution_count": null,
   "metadata": {},
   "outputs": [],
   "source": []
  }
 ],
 "metadata": {
  "kernelspec": {
   "display_name": "Python 3",
   "language": "python",
   "name": "python3"
  },
  "language_info": {
   "codemirror_mode": {
    "name": "ipython",
    "version": 3
   },
   "file_extension": ".py",
   "mimetype": "text/x-python",
   "name": "python",
   "nbconvert_exporter": "python",
   "pygments_lexer": "ipython3",
   "version": "3.8.2"
  }
 },
 "nbformat": 4,
 "nbformat_minor": 4
}
